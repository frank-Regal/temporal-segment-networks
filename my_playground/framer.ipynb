{
 "cells": [
  {
   "cell_type": "code",
   "execution_count": 37,
   "metadata": {},
   "outputs": [],
   "source": [
    "import cv2\n",
    "import os\n",
    "import sys\n"
   ]
  },
  {
   "cell_type": "code",
   "execution_count": 128,
   "metadata": {},
   "outputs": [],
   "source": [
    "vid_path = \"/home/regal/devel/ws_cacti/src/hri_cacti_xr/data/go_right/30x_4mono_10hz/20240131_161505_d_rr_go_right.avi\"\n",
    "out_path = \"/home/regal/devel/ws_cacti/src/hri_cacti_xr/gesture_recognition/gesture_recogition_research/action_clip_data/hl_val_frames/hold\"\n",
    "video = cv2.VideoCapture(vid_path)"
   ]
  },
  {
   "cell_type": "code",
   "execution_count": 129,
   "metadata": {},
   "outputs": [
    {
     "name": "stdout",
     "output_type": "stream",
     "text": [
      "vid1\n"
     ]
    }
   ],
   "source": [
    "vid_name = vid_path.split('/')[-1].split('.')[0]\n",
    "print(vid_name)"
   ]
  },
  {
   "cell_type": "code",
   "execution_count": 134,
   "metadata": {},
   "outputs": [
    {
     "name": "stdout",
     "output_type": "stream",
     "text": [
      "/home/regal/devel/ws_cacti/src/hri_cacti_xr/gesture_recognition/gesture_recogition_research/action_clip_data/hl_extracted_val_frames/hold/vid1\n"
     ]
    }
   ],
   "source": [
    "out_full_path = os.path.join(out_path, vid_name)\n",
    "print(out_full_path)\n",
    "\n",
    "try:\n",
    "    os.mkdir(out_path)\n",
    "    os.mkdir(out_full_path)\n",
    "except OSError:\n",
    "    print(\"directory exists\")"
   ]
  },
  {
   "cell_type": "code",
   "execution_count": 135,
   "metadata": {},
   "outputs": [
    {
     "name": "stdout",
     "output_type": "stream",
     "text": [
      "171\n"
     ]
    }
   ],
   "source": [
    "fcount = int(video.get(cv2.CAP_PROP_FRAME_COUNT))\n",
    "print(fcount)"
   ]
  },
  {
   "cell_type": "code",
   "execution_count": 136,
   "metadata": {},
   "outputs": [
    {
     "name": "stdout",
     "output_type": "stream",
     "text": [
      "vid1 done\n",
      "['/home/regal/devel/ws_cacti/src/hri_cacti_xr/gesture_recognition/gesture_recogition_research/action_clip_data/hl_extracted_val_frames/hold/vid1 171 0']\n"
     ]
    }
   ],
   "source": [
    "file_list = []\n",
    "for i in range(0,fcount):\n",
    "    ret, frame = video.read()\n",
    "    assert ret\n",
    "    resized_frame = cv2.resize(frame, (340, 256))\n",
    "    cv2.imwrite('{}/img_{:05d}.jpg'.format(out_full_path, i), resized_frame)\n",
    "    #access_path = '{}/{:05d}.jpg {} 0'.format(out_full_path, i, fcount)\n",
    "access_path = '{} {} {}'.format(out_full_path, fcount, 0)\n",
    "file_list.append(access_path)\n",
    "print('{} done'.format(vid_name))\n",
    "video.release()\n",
    "#sys.stdout.flush()\n",
    "print(file_list)"
   ]
  },
  {
   "cell_type": "code",
   "execution_count": 30,
   "metadata": {},
   "outputs": [
    {
     "name": "stdout",
     "output_type": "stream",
     "text": [
      "['hold_001/000000.jpg', 'hold_001/000001.jpg', 'hold_001/000002.jpg', 'hold_001/000003.jpg', 'hold_001/000004.jpg', 'hold_001/000005.jpg', 'hold_001/000006.jpg', 'hold_001/000007.jpg', 'hold_001/000008.jpg', 'hold_001/000009.jpg', 'hold_001/000010.jpg', 'hold_001/000011.jpg', 'hold_001/000012.jpg', 'hold_001/000013.jpg', 'hold_001/000014.jpg', 'hold_001/000015.jpg', 'hold_001/000016.jpg', 'hold_001/000017.jpg', 'hold_001/000018.jpg', 'hold_001/000019.jpg', 'hold_001/000020.jpg', 'hold_001/000021.jpg', 'hold_001/000022.jpg', 'hold_001/000023.jpg', 'hold_001/000024.jpg', 'hold_001/000025.jpg', 'hold_001/000026.jpg', 'hold_001/000027.jpg', 'hold_001/000028.jpg', 'hold_001/000029.jpg', 'hold_001/000030.jpg', 'hold_001/000031.jpg', 'hold_001/000032.jpg', 'hold_001/000033.jpg', 'hold_001/000034.jpg', 'hold_001/000035.jpg', 'hold_001/000036.jpg', 'hold_001/000037.jpg', 'hold_001/000038.jpg', 'hold_001/000039.jpg', 'hold_001/000040.jpg', 'hold_001/000041.jpg', 'hold_001/000042.jpg', 'hold_001/000043.jpg', 'hold_001/000044.jpg', 'hold_001/000045.jpg', 'hold_001/000046.jpg', 'hold_001/000047.jpg', 'hold_001/000048.jpg', 'hold_001/000049.jpg', 'hold_001/000050.jpg', 'hold_001/000051.jpg', 'hold_001/000052.jpg', 'hold_001/000053.jpg', 'hold_001/000054.jpg', 'hold_001/000055.jpg', 'hold_001/000056.jpg', 'hold_001/000057.jpg', 'hold_001/000058.jpg', 'hold_001/000059.jpg', 'hold_001/000060.jpg', 'hold_001/000061.jpg', 'hold_001/000062.jpg', 'hold_001/000063.jpg', 'hold_001/000064.jpg', 'hold_001/000065.jpg', 'hold_001/000066.jpg', 'hold_001/000067.jpg', 'hold_001/000068.jpg', 'hold_001/000069.jpg', 'hold_001/000070.jpg', 'hold_001/000071.jpg', 'hold_001/000072.jpg', 'hold_001/000073.jpg', 'hold_001/000074.jpg', 'hold_001/000075.jpg', 'hold_001/000076.jpg', 'hold_001/000077.jpg', 'hold_001/000078.jpg', 'hold_001/000079.jpg', 'hold_001/000080.jpg', 'hold_001/000081.jpg', 'hold_001/000082.jpg', 'hold_001/000083.jpg', 'hold_001/000084.jpg', 'hold_001/000085.jpg', 'hold_001/000086.jpg', 'hold_001/000087.jpg', 'hold_001/000088.jpg', 'hold_001/000089.jpg', 'hold_001/000090.jpg', 'hold_001/000091.jpg', 'hold_001/000092.jpg', 'hold_001/000093.jpg', 'hold_001/000094.jpg', 'hold_001/000095.jpg', 'hold_001/000096.jpg', 'hold_001/000097.jpg', 'hold_001/000098.jpg', 'hold_001/000099.jpg', 'hold_001/000100.jpg', 'hold_001/000101.jpg', 'hold_001/000102.jpg', 'hold_001/000103.jpg', 'hold_001/000104.jpg', 'hold_001/000105.jpg', 'hold_001/000106.jpg', 'hold_001/000107.jpg', 'hold_001/000108.jpg', 'hold_001/000109.jpg', 'hold_001/000110.jpg', 'hold_001/000111.jpg', 'hold_001/000112.jpg', 'hold_001/000113.jpg', 'hold_001/000114.jpg', 'hold_001/000115.jpg', 'hold_001/000116.jpg', 'hold_001/000117.jpg', 'hold_001/000118.jpg', 'hold_001/000119.jpg', 'hold_001/000120.jpg', 'hold_001/000121.jpg', 'hold_001/000122.jpg', 'hold_001/000123.jpg', 'hold_001/000124.jpg', 'hold_001/000125.jpg', 'hold_001/000126.jpg', 'hold_001/000127.jpg', 'hold_001/000128.jpg', 'hold_001/000129.jpg', 'hold_001/000130.jpg', 'hold_001/000131.jpg', 'hold_001/000132.jpg', 'hold_001/000133.jpg', 'hold_001/000134.jpg', 'hold_001/000135.jpg', 'hold_001/000136.jpg', 'hold_001/000137.jpg', 'hold_001/000138.jpg', 'hold_001/000139.jpg', 'hold_001/000140.jpg', 'hold_001/000141.jpg', 'hold_001/000142.jpg', 'hold_001/000143.jpg', 'hold_001/000144.jpg', 'hold_001/000145.jpg', 'hold_001/000146.jpg', 'hold_001/000147.jpg', 'hold_001/000148.jpg', 'hold_001/000149.jpg', 'hold_001/000150.jpg', 'hold_001/000151.jpg', 'hold_001/000152.jpg', 'hold_001/000153.jpg', 'hold_001/000154.jpg', 'hold_001/000155.jpg', 'hold_001/000156.jpg', 'hold_001/000157.jpg', 'hold_001/000158.jpg', 'hold_001/000159.jpg', 'hold_001/000160.jpg', 'hold_001/000161.jpg', 'hold_001/000162.jpg', 'hold_001/000163.jpg', 'hold_001/000164.jpg', 'hold_001/000165.jpg', 'hold_001/000166.jpg', 'hold_001/000167.jpg', 'hold_001/000168.jpg', 'hold_001/000169.jpg', 'hold_001/000170.jpg']\n"
     ]
    }
   ],
   "source": [
    "print(file_list)"
   ]
  },
  {
   "cell_type": "code",
   "execution_count": null,
   "metadata": {},
   "outputs": [],
   "source": []
  }
 ],
 "metadata": {
  "kernelspec": {
   "display_name": "hri_cacti_py38",
   "language": "python",
   "name": "python3"
  },
  "language_info": {
   "codemirror_mode": {
    "name": "ipython",
    "version": 3
   },
   "file_extension": ".py",
   "mimetype": "text/x-python",
   "name": "python",
   "nbconvert_exporter": "python",
   "pygments_lexer": "ipython3",
   "version": "3.8.18"
  }
 },
 "nbformat": 4,
 "nbformat_minor": 2
}
